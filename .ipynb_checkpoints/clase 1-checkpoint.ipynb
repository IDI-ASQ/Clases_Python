{
 "cells": [
  {
   "cell_type": "markdown",
   "id": "38842422",
   "metadata": {},
   "source": [
    "# Variables y tipos de datos\n",
    "\n",
    "**Variable** Una variables consta de un espacio de memoria y u nsimbolo (identificador)\n",
    "\n",
    "Tipos de datos:\n",
    "* ``int`` $\\longrightarrow$ Números enteros\n",
    "* ``float`` $\\longrightarrow$ Números decimales\n",
    "* ``str`` $\\longrightarrow$ Cadena de caracteres\n",
    "* ``bool`` $\\longrightarrow$ True/False\n",
    "\n",
    "``nombre_variable = valor``"
   ]
  },
  {
   "cell_type": "code",
   "execution_count": 2,
   "id": "99029088",
   "metadata": {},
   "outputs": [
    {
     "data": {
      "text/plain": [
       "4"
      ]
     },
     "execution_count": 2,
     "metadata": {},
     "output_type": "execute_result"
    }
   ],
   "source": [
    "a = 4\n",
    "a"
   ]
  },
  {
   "cell_type": "code",
   "execution_count": 3,
   "id": "fc0823d5",
   "metadata": {},
   "outputs": [
    {
     "data": {
      "text/plain": [
       "2.397291279387"
      ]
     },
     "execution_count": 3,
     "metadata": {},
     "output_type": "execute_result"
    }
   ],
   "source": [
    "b = 2.397291279387\n",
    "b"
   ]
  },
  {
   "cell_type": "code",
   "execution_count": 4,
   "id": "bf007cef",
   "metadata": {},
   "outputs": [
    {
     "data": {
      "text/plain": [
       "'ASQ UNI'"
      ]
     },
     "execution_count": 4,
     "metadata": {},
     "output_type": "execute_result"
    }
   ],
   "source": [
    "c = 'ASQ UNI'\n",
    "c"
   ]
  },
  {
   "cell_type": "code",
   "execution_count": 6,
   "id": "cf099afb",
   "metadata": {},
   "outputs": [
    {
     "data": {
      "text/plain": [
       "(int, float, str)"
      ]
     },
     "execution_count": 6,
     "metadata": {},
     "output_type": "execute_result"
    }
   ],
   "source": [
    "type(a), type(b) , type(c)"
   ]
  },
  {
   "cell_type": "markdown",
   "id": "6697cd06",
   "metadata": {},
   "source": [
    "<div class=\"alert alert-block alert-warning\">\n",
    "    <b>Nota:</b> Asignamos los datos sin indicar de qué tipo son.\n",
    "</div>"
   ]
  },
  {
   "cell_type": "markdown",
   "id": "8c715106",
   "metadata": {},
   "source": [
    "<div class=\"alert alert-block alert-warning\">\n",
    "    <b>Nota:</b> Operaciones básicas usamos (+) (-) (*) (/) (**)\n",
    "</div>"
   ]
  },
  {
   "cell_type": "markdown",
   "id": "a5143244",
   "metadata": {},
   "source": [
    "## Variable string\n",
    "**string**: Cadena de caracteres\n",
    "\n",
    "Podemos crear un ``string`` a partir de ``' '`` o ``\" \"``"
   ]
  },
  {
   "cell_type": "code",
   "execution_count": 8,
   "id": "de9c24b6",
   "metadata": {},
   "outputs": [
    {
     "data": {
      "text/plain": [
       "'variable string, comilla simmple'"
      ]
     },
     "execution_count": 8,
     "metadata": {},
     "output_type": "execute_result"
    }
   ],
   "source": [
    "string_1 = 'variable string, comilla simmple'\n",
    "string_1"
   ]
  },
  {
   "cell_type": "code",
   "execution_count": 9,
   "id": "e0d2afb4",
   "metadata": {},
   "outputs": [],
   "source": [
    "string_2 = \"variable string, comilla doble\""
   ]
  },
  {
   "cell_type": "code",
   "execution_count": 10,
   "id": "5062e7cb",
   "metadata": {},
   "outputs": [
    {
     "data": {
      "text/plain": [
       "str"
      ]
     },
     "execution_count": 10,
     "metadata": {},
     "output_type": "execute_result"
    }
   ],
   "source": [
    "type(string_1)"
   ]
  },
  {
   "cell_type": "markdown",
   "id": "6e622890",
   "metadata": {},
   "source": [
    "## Comillas dentro de un string"
   ]
  },
  {
   "cell_type": "code",
   "execution_count": 14,
   "id": "2bc5146a",
   "metadata": {},
   "outputs": [
    {
     "data": {
      "text/plain": [
       "'usar \"comillas dobles\" dentro de un string '"
      ]
     },
     "execution_count": 14,
     "metadata": {},
     "output_type": "execute_result"
    }
   ],
   "source": [
    "primera_forma = 'usar \"comillas dobles\" dentro de un string '\n",
    "primera_forma"
   ]
  },
  {
   "cell_type": "code",
   "execution_count": 15,
   "id": "d4f7ef60",
   "metadata": {},
   "outputs": [
    {
     "data": {
      "text/plain": [
       "\"usar 'comillas dobles' dentro de un string\""
      ]
     },
     "execution_count": 15,
     "metadata": {},
     "output_type": "execute_result"
    }
   ],
   "source": [
    "segunda_forma = \"usar 'comillas dobles' dentro de un string\"\n",
    "segunda_forma"
   ]
  },
  {
   "cell_type": "code",
   "execution_count": 17,
   "id": "d8601c06",
   "metadata": {},
   "outputs": [
    {
     "data": {
      "text/plain": [
       "'Hola \"Carlos\" '"
      ]
     },
     "execution_count": 17,
     "metadata": {},
     "output_type": "execute_result"
    }
   ],
   "source": [
    "tercera_forma = 'Hola \\\"Carlos\\\" '\n",
    "tercera_forma"
   ]
  },
  {
   "cell_type": "markdown",
   "id": "14f19e02",
   "metadata": {},
   "source": [
    "### print format"
   ]
  },
  {
   "cell_type": "code",
   "execution_count": 18,
   "id": "6d4e0d73",
   "metadata": {},
   "outputs": [
    {
     "data": {
      "text/plain": [
       "'Hola'"
      ]
     },
     "execution_count": 18,
     "metadata": {},
     "output_type": "execute_result"
    }
   ],
   "source": [
    "a = 'Hola'\n",
    "a"
   ]
  },
  {
   "cell_type": "code",
   "execution_count": 19,
   "id": "5f0f10a2",
   "metadata": {},
   "outputs": [
    {
     "name": "stdout",
     "output_type": "stream",
     "text": [
      "Hola\n"
     ]
    }
   ],
   "source": [
    "print(a)"
   ]
  },
  {
   "cell_type": "code",
   "execution_count": 20,
   "id": "dc947e55",
   "metadata": {},
   "outputs": [
    {
     "name": "stdout",
     "output_type": "stream",
     "text": [
      "Mi nombre es  Carlos Rondan y mi edad es  22 años\n"
     ]
    }
   ],
   "source": [
    "nombre = 'Carlos Rondan'\n",
    "edad = 22\n",
    "\n",
    "print('Mi nombre es ',nombre,'y mi edad es ', edad, 'años')"
   ]
  },
  {
   "cell_type": "code",
   "execution_count": 21,
   "id": "fbb945c8",
   "metadata": {},
   "outputs": [
    {
     "name": "stdout",
     "output_type": "stream",
     "text": [
      "Mi nombre es Carlos Rondan y mi edad es 22 años\n"
     ]
    }
   ],
   "source": [
    "print('Mi nombre es {} y mi edad es {} años'.format(nombre, edad))"
   ]
  },
  {
   "cell_type": "markdown",
   "id": "a42048b4",
   "metadata": {},
   "source": [
    "### substring"
   ]
  },
  {
   "cell_type": "code",
   "execution_count": 22,
   "id": "8e76fb24",
   "metadata": {},
   "outputs": [],
   "source": [
    "substring = 'Python'"
   ]
  },
  {
   "cell_type": "markdown",
   "id": "c83afbca",
   "metadata": {},
   "source": [
    "La cadena de texto ``'Python'`` tiene la siguiente indexación:\n",
    "\n",
    "``\n",
    " P  y  t  h  o  n\n",
    " 0  1  2  3  4  5\n",
    "-6 -5 -4 -3 -2 -1\n",
    "``\n"
   ]
  },
  {
   "cell_type": "code",
   "execution_count": 25,
   "id": "a30d94fa",
   "metadata": {},
   "outputs": [
    {
     "data": {
      "text/plain": [
       "('t', 't')"
      ]
     },
     "execution_count": 25,
     "metadata": {},
     "output_type": "execute_result"
    }
   ],
   "source": [
    "substring[2], substring[-4]"
   ]
  },
  {
   "cell_type": "markdown",
   "id": "353615d0",
   "metadata": {},
   "source": [
    "Recorre la cadena de texto ``substring`` desde la posición 2 hasta la posición 4"
   ]
  },
  {
   "cell_type": "code",
   "execution_count": 27,
   "id": "f73927e8",
   "metadata": {},
   "outputs": [
    {
     "data": {
      "text/plain": [
       "'tho'"
      ]
     },
     "execution_count": 27,
     "metadata": {},
     "output_type": "execute_result"
    }
   ],
   "source": [
    "substring[2:5]"
   ]
  },
  {
   "cell_type": "code",
   "execution_count": 28,
   "id": "924169d8",
   "metadata": {},
   "outputs": [
    {
     "data": {
      "text/plain": [
       "'Pyth'"
      ]
     },
     "execution_count": 28,
     "metadata": {},
     "output_type": "execute_result"
    }
   ],
   "source": [
    "substring[:4]"
   ]
  },
  {
   "cell_type": "code",
   "execution_count": 29,
   "id": "c4ef3d24",
   "metadata": {},
   "outputs": [
    {
     "data": {
      "text/plain": [
       "'thon'"
      ]
     },
     "execution_count": 29,
     "metadata": {},
     "output_type": "execute_result"
    }
   ],
   "source": [
    "substring[2:]"
   ]
  },
  {
   "cell_type": "markdown",
   "id": "2f31102d",
   "metadata": {},
   "source": [
    "## Métodos para trabajar con string"
   ]
  },
  {
   "cell_type": "code",
   "execution_count": 31,
   "id": "54a78b46",
   "metadata": {},
   "outputs": [],
   "source": [
    "a = 'aPRENDERÁS PYTHON con ASQ UNI'"
   ]
  },
  {
   "cell_type": "markdown",
   "id": "8f48581b",
   "metadata": {},
   "source": [
    "El método ``.lower()`` sirve para poner en minuscula toda la cadena de caracteres"
   ]
  },
  {
   "cell_type": "code",
   "execution_count": 32,
   "id": "f896c42d",
   "metadata": {},
   "outputs": [
    {
     "data": {
      "text/plain": [
       "'aprenderás python con asq uni'"
      ]
     },
     "execution_count": 32,
     "metadata": {},
     "output_type": "execute_result"
    }
   ],
   "source": [
    "a.lower()"
   ]
  },
  {
   "cell_type": "markdown",
   "id": "e40040d5",
   "metadata": {},
   "source": [
    "El método ``.upper()`` sirve para poner en mayúscula toda la cadena de caracteres"
   ]
  },
  {
   "cell_type": "code",
   "execution_count": 33,
   "id": "78e60a6c",
   "metadata": {},
   "outputs": [
    {
     "data": {
      "text/plain": [
       "'APRENDERÁS PYTHON CON ASQ UNI'"
      ]
     },
     "execution_count": 33,
     "metadata": {},
     "output_type": "execute_result"
    }
   ],
   "source": [
    "a.upper()"
   ]
  },
  {
   "cell_type": "markdown",
   "id": "760d30c9",
   "metadata": {},
   "source": [
    "El método ``.count()`` se usa para contabilidar una o un conjutno de caracteres que se encuentren en el string "
   ]
  },
  {
   "cell_type": "code",
   "execution_count": 36,
   "id": "a4ba0908",
   "metadata": {},
   "outputs": [
    {
     "data": {
      "text/plain": [
       "3"
      ]
     },
     "execution_count": 36,
     "metadata": {},
     "output_type": "execute_result"
    }
   ],
   "source": [
    "a.count('N')"
   ]
  },
  {
   "cell_type": "markdown",
   "id": "d8aa86c5",
   "metadata": {},
   "source": [
    "El método ``.capitalize()`` convierte la primera letra en mayúscula y las restantes en mínuscula "
   ]
  },
  {
   "cell_type": "code",
   "execution_count": 37,
   "id": "25651856",
   "metadata": {},
   "outputs": [
    {
     "data": {
      "text/plain": [
       "'Aprenderás python con asq uni'"
      ]
     },
     "execution_count": 37,
     "metadata": {},
     "output_type": "execute_result"
    }
   ],
   "source": [
    "a.capitalize()"
   ]
  },
  {
   "cell_type": "markdown",
   "id": "1e6afea6",
   "metadata": {},
   "source": [
    "El método ``.title()`` es usado para convertir en mayúscula la primera letra de cada palabras, y las restantes en minúscula"
   ]
  },
  {
   "cell_type": "code",
   "execution_count": 38,
   "id": "861e58a8",
   "metadata": {},
   "outputs": [
    {
     "data": {
      "text/plain": [
       "'Aprenderás Python Con Asq Uni'"
      ]
     },
     "execution_count": 38,
     "metadata": {},
     "output_type": "execute_result"
    }
   ],
   "source": [
    "a.title()"
   ]
  },
  {
   "cell_type": "markdown",
   "id": "72a1c0d8",
   "metadata": {},
   "source": [
    "El método ``.replace()`` tiene dos parámetros. El primero es **la cadena de texto a remplazar** y el segundo es el **nuevo texto**"
   ]
  },
  {
   "cell_type": "code",
   "execution_count": 39,
   "id": "58a4a8bd",
   "metadata": {},
   "outputs": [
    {
     "data": {
      "text/plain": [
       "'aPRENDERÁS R con ASQ UNI'"
      ]
     },
     "execution_count": 39,
     "metadata": {},
     "output_type": "execute_result"
    }
   ],
   "source": [
    "a.replace('PYTHON', 'R')"
   ]
  },
  {
   "cell_type": "markdown",
   "id": "309d63be",
   "metadata": {},
   "source": [
    "El método ``.split()`` divide un string y los almacena como elementos en una lista "
   ]
  },
  {
   "cell_type": "code",
   "execution_count": 41,
   "id": "9034fb8e",
   "metadata": {},
   "outputs": [
    {
     "data": {
      "text/plain": [
       "['aPRE', 'DERÁS PYTHO', ' con ASQ U', 'I']"
      ]
     },
     "execution_count": 41,
     "metadata": {},
     "output_type": "execute_result"
    }
   ],
   "source": [
    "a.split('N')"
   ]
  },
  {
   "cell_type": "markdown",
   "id": "ac8423e9",
   "metadata": {},
   "source": [
    "la función ``len()`` contabiliza los caracteres de un string"
   ]
  },
  {
   "cell_type": "code",
   "execution_count": 42,
   "id": "a60b20d2",
   "metadata": {},
   "outputs": [
    {
     "data": {
      "text/plain": [
       "29"
      ]
     },
     "execution_count": 42,
     "metadata": {},
     "output_type": "execute_result"
    }
   ],
   "source": [
    "len(a)"
   ]
  },
  {
   "cell_type": "markdown",
   "id": "0ecbb8a3",
   "metadata": {},
   "source": [
    "El método ``.find()`` sirve para buscar una sub cadena de texto de una string "
   ]
  },
  {
   "cell_type": "code",
   "execution_count": 43,
   "id": "cb86ae38",
   "metadata": {},
   "outputs": [
    {
     "data": {
      "text/plain": [
       "3"
      ]
     },
     "execution_count": 43,
     "metadata": {},
     "output_type": "execute_result"
    }
   ],
   "source": [
    "a.find('E')"
   ]
  },
  {
   "cell_type": "markdown",
   "id": "09f11d97",
   "metadata": {},
   "source": [
    "# Casting (convertir tipo de datos)"
   ]
  },
  {
   "cell_type": "code",
   "execution_count": 49,
   "id": "94e3c1dd",
   "metadata": {},
   "outputs": [
    {
     "data": {
      "text/plain": [
       "8.5"
      ]
     },
     "execution_count": 49,
     "metadata": {},
     "output_type": "execute_result"
    }
   ],
   "source": [
    "a = 8.5\n",
    "a"
   ]
  },
  {
   "cell_type": "code",
   "execution_count": 50,
   "id": "59958803",
   "metadata": {},
   "outputs": [
    {
     "data": {
      "text/plain": [
       "8"
      ]
     },
     "execution_count": 50,
     "metadata": {},
     "output_type": "execute_result"
    }
   ],
   "source": [
    "b = int(a)\n",
    "b"
   ]
  },
  {
   "cell_type": "code",
   "execution_count": 51,
   "id": "0c91f567",
   "metadata": {},
   "outputs": [
    {
     "data": {
      "text/plain": [
       "float"
      ]
     },
     "execution_count": 51,
     "metadata": {},
     "output_type": "execute_result"
    }
   ],
   "source": [
    "type(a)"
   ]
  },
  {
   "cell_type": "code",
   "execution_count": 52,
   "id": "6e0447ce",
   "metadata": {},
   "outputs": [
    {
     "data": {
      "text/plain": [
       "int"
      ]
     },
     "execution_count": 52,
     "metadata": {},
     "output_type": "execute_result"
    }
   ],
   "source": [
    "type(b)"
   ]
  },
  {
   "cell_type": "markdown",
   "id": "878000cb",
   "metadata": {},
   "source": [
    "<div class=\"alert alert-block alert-danger\">\n",
    "    <b>Nota:</b> Cuando usamos int() en un número flotante esta trunca al número, por ejemplo, int(8.5) $\\rightarrow$ 8.  En este caso se ha truncado, por lo que, hemos perdido información\n",
    "</div>"
   ]
  },
  {
   "cell_type": "markdown",
   "id": "1e5c0e1e",
   "metadata": {},
   "source": [
    "## Ejemplitos"
   ]
  },
  {
   "cell_type": "markdown",
   "id": "e0113d09",
   "metadata": {},
   "source": [
    "### Ejemplo 1"
   ]
  },
  {
   "cell_type": "code",
   "execution_count": 58,
   "id": "7e31d5a5",
   "metadata": {},
   "outputs": [
    {
     "name": "stdout",
     "output_type": "stream",
     "text": [
      "22\n"
     ]
    }
   ],
   "source": [
    "edad = input()"
   ]
  },
  {
   "cell_type": "code",
   "execution_count": 61,
   "id": "a621afda",
   "metadata": {},
   "outputs": [
    {
     "data": {
      "text/plain": [
       "'22'"
      ]
     },
     "execution_count": 61,
     "metadata": {},
     "output_type": "execute_result"
    }
   ],
   "source": [
    "edad"
   ]
  },
  {
   "cell_type": "code",
   "execution_count": 62,
   "id": "d117d54c",
   "metadata": {},
   "outputs": [
    {
     "name": "stdout",
     "output_type": "stream",
     "text": [
      "22\n"
     ]
    }
   ],
   "source": [
    "print(edad)"
   ]
  },
  {
   "cell_type": "code",
   "execution_count": null,
   "id": "ee8dd76e",
   "metadata": {},
   "outputs": [],
   "source": []
  },
  {
   "cell_type": "code",
   "execution_count": 64,
   "id": "b51ca2cc",
   "metadata": {},
   "outputs": [
    {
     "name": "stdout",
     "output_type": "stream",
     "text": [
      "Mi nombre es: Carlos Rondan\n",
      "Mi edad es: 22\n"
     ]
    }
   ],
   "source": [
    "nombre = input('Mi nombre es: ')\n",
    "edad = int(input('Mi edad es: '))"
   ]
  },
  {
   "cell_type": "code",
   "execution_count": 65,
   "id": "3fd7e952",
   "metadata": {},
   "outputs": [
    {
     "data": {
      "text/plain": [
       "(str, int)"
      ]
     },
     "execution_count": 65,
     "metadata": {},
     "output_type": "execute_result"
    }
   ],
   "source": [
    "type(nombre), type(edad)"
   ]
  },
  {
   "cell_type": "code",
   "execution_count": 67,
   "id": "927eb889",
   "metadata": {},
   "outputs": [
    {
     "name": "stdout",
     "output_type": "stream",
     "text": [
      "La edad de Carlos Rondan es 22 años\n"
     ]
    }
   ],
   "source": [
    "print('La edad de {} es {} años'.format(nombre,edad))"
   ]
  },
  {
   "cell_type": "markdown",
   "id": "67dda529",
   "metadata": {},
   "source": [
    "### Ejemplo 2\n",
    "\n",
    "Calcular el índice de masa corporal $IMC = \\frac{Peso}{Altura^2}$"
   ]
  },
  {
   "cell_type": "code",
   "execution_count": 68,
   "id": "9a09107b",
   "metadata": {},
   "outputs": [
    {
     "name": "stdout",
     "output_type": "stream",
     "text": [
      "Mi nombre es: Carlos Rondan\n",
      "Mi eso es :80\n",
      "Mi altura es: 1.70\n"
     ]
    }
   ],
   "source": [
    "nombre = input('Mi nombre es: ')\n",
    "peso = float(input('Mi eso es :'))\n",
    "altura = float(input('Mi altura es: '))\n",
    "\n",
    "IMC = peso/(altura**2)"
   ]
  },
  {
   "cell_type": "code",
   "execution_count": 72,
   "id": "b8bc3504",
   "metadata": {},
   "outputs": [
    {
     "name": "stdout",
     "output_type": "stream",
     "text": [
      "El usuario \"Carlos Rondan\" con peso 80.0 kg y altura 1.7 metros tiene IMC igual a 27.68 \n"
     ]
    }
   ],
   "source": [
    "print('El usuario \\\"{}\\\" con peso {} kg y altura {} metros tiene IMC igual a {} '.format(nombre,\n",
    "                                                                                    peso,\n",
    "                                                                                    altura,\n",
    "                                                                                    round(IMC,2)))"
   ]
  },
  {
   "cell_type": "code",
   "execution_count": 71,
   "id": "4c7622c1",
   "metadata": {},
   "outputs": [
    {
     "data": {
      "text/plain": [
       "27.68"
      ]
     },
     "execution_count": 71,
     "metadata": {},
     "output_type": "execute_result"
    }
   ],
   "source": [
    "round(IMC, 2)"
   ]
  },
  {
   "cell_type": "markdown",
   "id": "72fb54b0",
   "metadata": {},
   "source": [
    "<div class=\"alert alert-block alert-warning\">\n",
    "    <b>Nota:</b> Python tiene como tipo de dato a los números completos (complex)\n",
    "</div>"
   ]
  },
  {
   "cell_type": "markdown",
   "id": "61462fdc",
   "metadata": {},
   "source": [
    "La correcta sintaxis de un número complejo es:``a + bj``.\n",
    "\n",
    "Donde :\n",
    "-   ``a`` es la parte real de un número complejo\n",
    "-   `b` es la parte imaginaria del número complejo\n",
    "-   `j` es el número imaginario $j = i = \\sqrt{-1}$"
   ]
  },
  {
   "cell_type": "code",
   "execution_count": 78,
   "id": "0c5b3eaa",
   "metadata": {},
   "outputs": [
    {
     "data": {
      "text/plain": [
       "(1+3j)"
      ]
     },
     "execution_count": 78,
     "metadata": {},
     "output_type": "execute_result"
    }
   ],
   "source": [
    "numero_complejo = 1 + 3j\n",
    "numero_complejo"
   ]
  },
  {
   "cell_type": "markdown",
   "id": "6bf8a2ef",
   "metadata": {},
   "source": [
    "Podemos crear un número compleo con la función ``complex()``"
   ]
  },
  {
   "cell_type": "code",
   "execution_count": 80,
   "id": "f89432c0",
   "metadata": {},
   "outputs": [
    {
     "data": {
      "text/plain": [
       "(1-2j)"
      ]
     },
     "execution_count": 80,
     "metadata": {},
     "output_type": "execute_result"
    }
   ],
   "source": [
    "crear_complejo = complex(1,-2)\n",
    "crear_complejo"
   ]
  },
  {
   "cell_type": "code",
   "execution_count": 81,
   "id": "e4fb3b5c",
   "metadata": {},
   "outputs": [
    {
     "data": {
      "text/plain": [
       "complex"
      ]
     },
     "execution_count": 81,
     "metadata": {},
     "output_type": "execute_result"
    }
   ],
   "source": [
    "type(crear_complejo)"
   ]
  },
  {
   "cell_type": "code",
   "execution_count": 82,
   "id": "4c5ad64f",
   "metadata": {},
   "outputs": [
    {
     "data": {
      "text/plain": [
       "1.0"
      ]
     },
     "execution_count": 82,
     "metadata": {},
     "output_type": "execute_result"
    }
   ],
   "source": [
    "crear_complejo.real"
   ]
  },
  {
   "cell_type": "code",
   "execution_count": 83,
   "id": "c50d1b7b",
   "metadata": {},
   "outputs": [
    {
     "data": {
      "text/plain": [
       "-2.0"
      ]
     },
     "execution_count": 83,
     "metadata": {},
     "output_type": "execute_result"
    }
   ],
   "source": [
    "crear_complejo.imag"
   ]
  },
  {
   "cell_type": "code",
   "execution_count": 84,
   "id": "87162cf4",
   "metadata": {},
   "outputs": [
    {
     "data": {
      "text/plain": [
       "(1+2j)"
      ]
     },
     "execution_count": 84,
     "metadata": {},
     "output_type": "execute_result"
    }
   ],
   "source": [
    "crear_complejo.conjugate()"
   ]
  },
  {
   "cell_type": "code",
   "execution_count": 85,
   "id": "12921f23",
   "metadata": {},
   "outputs": [
    {
     "data": {
      "text/plain": [
       "2.23606797749979"
      ]
     },
     "execution_count": 85,
     "metadata": {},
     "output_type": "execute_result"
    }
   ],
   "source": [
    "abs(crear_complejo) #hallar el modulo"
   ]
  },
  {
   "cell_type": "code",
   "execution_count": 86,
   "id": "c928d496",
   "metadata": {},
   "outputs": [
    {
     "data": {
      "text/plain": [
       "2.23606797749979"
      ]
     },
     "execution_count": 86,
     "metadata": {},
     "output_type": "execute_result"
    }
   ],
   "source": [
    "5**(1/2)"
   ]
  },
  {
   "cell_type": "markdown",
   "id": "4111deba",
   "metadata": {},
   "source": [
    "# Creación de listas\n",
    "**lista** Una colección de valores de cualquier tipo"
   ]
  },
  {
   "cell_type": "code",
   "execution_count": 90,
   "id": "39c0431c",
   "metadata": {},
   "outputs": [],
   "source": [
    "lista_1 = [10,10.2,'carlos',[1,2]]"
   ]
  },
  {
   "cell_type": "code",
   "execution_count": 91,
   "id": "4f347775",
   "metadata": {},
   "outputs": [
    {
     "data": {
      "text/plain": [
       "[10, 10.2, 'carlos', [1, 2]]"
      ]
     },
     "execution_count": 91,
     "metadata": {},
     "output_type": "execute_result"
    }
   ],
   "source": [
    "lista_1"
   ]
  },
  {
   "cell_type": "markdown",
   "id": "c87f4f47",
   "metadata": {},
   "source": [
    "La lista ``lista_1`` tiene la siguiente indexación:\n",
    "\n",
    "``\n",
    "[ 10,10.2,'carlos',[1,2]]\n",
    "   0    1     2       3 \n",
    "  -4   -3    -2      -1\n",
    "``\n"
   ]
  },
  {
   "cell_type": "code",
   "execution_count": 92,
   "id": "c5779388",
   "metadata": {},
   "outputs": [
    {
     "data": {
      "text/plain": [
       "10"
      ]
     },
     "execution_count": 92,
     "metadata": {},
     "output_type": "execute_result"
    }
   ],
   "source": [
    "lista_1[0]"
   ]
  },
  {
   "cell_type": "code",
   "execution_count": 93,
   "id": "9ed2936a",
   "metadata": {},
   "outputs": [
    {
     "data": {
      "text/plain": [
       "[10.2, 'carlos']"
      ]
     },
     "execution_count": 93,
     "metadata": {},
     "output_type": "execute_result"
    }
   ],
   "source": [
    "lista_1[1:3]"
   ]
  },
  {
   "cell_type": "markdown",
   "id": "adc277cf",
   "metadata": {},
   "source": [
    "## Cómo añadir o quitar elementos de una lista"
   ]
  },
  {
   "cell_type": "markdown",
   "id": "711ab44c",
   "metadata": {},
   "source": [
    "###  Añadir valores a una lista"
   ]
  },
  {
   "cell_type": "code",
   "execution_count": 94,
   "id": "3988c42c",
   "metadata": {},
   "outputs": [
    {
     "data": {
      "text/plain": [
       "[10, 10.2, 'carlos', [1, 2], 'Hola', 3]"
      ]
     },
     "execution_count": 94,
     "metadata": {},
     "output_type": "execute_result"
    }
   ],
   "source": [
    "lista = lista_1 + ['Hola', 3]\n",
    "lista"
   ]
  },
  {
   "cell_type": "markdown",
   "id": "d5af4def",
   "metadata": {},
   "source": [
    "El método ``.append()`` sirve para añadir nuevos elementos (int, float, list, dict, dataframe, etc....)"
   ]
  },
  {
   "cell_type": "code",
   "execution_count": 95,
   "id": "b4913096",
   "metadata": {},
   "outputs": [],
   "source": [
    "lista.append(2)"
   ]
  },
  {
   "cell_type": "code",
   "execution_count": 96,
   "id": "2e7f1d9b",
   "metadata": {},
   "outputs": [
    {
     "data": {
      "text/plain": [
       "[10, 10.2, 'carlos', [1, 2], 'Hola', 3, 2]"
      ]
     },
     "execution_count": 96,
     "metadata": {},
     "output_type": "execute_result"
    }
   ],
   "source": [
    "lista"
   ]
  },
  {
   "cell_type": "code",
   "execution_count": 97,
   "id": "6fe3f62d",
   "metadata": {},
   "outputs": [],
   "source": [
    "lista.insert(2, 'aqui estos, haceme caso')"
   ]
  },
  {
   "cell_type": "code",
   "execution_count": 98,
   "id": "5be3e68b",
   "metadata": {},
   "outputs": [
    {
     "data": {
      "text/plain": [
       "[10, 10.2, 'aqui estos, haceme caso', 'carlos', [1, 2], 'Hola', 3, 2]"
      ]
     },
     "execution_count": 98,
     "metadata": {},
     "output_type": "execute_result"
    }
   ],
   "source": [
    "lista"
   ]
  },
  {
   "cell_type": "markdown",
   "id": "68ec3a93",
   "metadata": {},
   "source": [
    "### quitar elementos de una lista"
   ]
  },
  {
   "cell_type": "code",
   "execution_count": 99,
   "id": "6c0fadea",
   "metadata": {},
   "outputs": [],
   "source": [
    "lista.remove(3)"
   ]
  },
  {
   "cell_type": "code",
   "execution_count": 100,
   "id": "ab947ebc",
   "metadata": {},
   "outputs": [
    {
     "data": {
      "text/plain": [
       "[10, 10.2, 'aqui estos, haceme caso', 'carlos', [1, 2], 'Hola', 2]"
      ]
     },
     "execution_count": 100,
     "metadata": {},
     "output_type": "execute_result"
    }
   ],
   "source": [
    "lista"
   ]
  },
  {
   "cell_type": "markdown",
   "id": "5753530c",
   "metadata": {},
   "source": [
    "## Crear nuevas listas\n",
    "1. Por punteros (dependientes)\n",
    "2. por la función ``list()`` (independiente)"
   ]
  },
  {
   "cell_type": "code",
   "execution_count": 101,
   "id": "2fb8d152",
   "metadata": {},
   "outputs": [
    {
     "data": {
      "text/plain": [
       "[1, 2, 3]"
      ]
     },
     "execution_count": 101,
     "metadata": {},
     "output_type": "execute_result"
    }
   ],
   "source": [
    "x = [1,2,3]\n",
    "x"
   ]
  },
  {
   "cell_type": "code",
   "execution_count": 102,
   "id": "0e94c9f8",
   "metadata": {},
   "outputs": [
    {
     "data": {
      "text/plain": [
       "[1, 2, 3]"
      ]
     },
     "execution_count": 102,
     "metadata": {},
     "output_type": "execute_result"
    }
   ],
   "source": [
    "y = x\n",
    "y"
   ]
  },
  {
   "cell_type": "code",
   "execution_count": 103,
   "id": "c45a0258",
   "metadata": {},
   "outputs": [],
   "source": [
    "y[1] = 100"
   ]
  },
  {
   "cell_type": "code",
   "execution_count": 104,
   "id": "72bf58c6",
   "metadata": {},
   "outputs": [
    {
     "data": {
      "text/plain": [
       "[1, 100, 3]"
      ]
     },
     "execution_count": 104,
     "metadata": {},
     "output_type": "execute_result"
    }
   ],
   "source": [
    "y"
   ]
  },
  {
   "cell_type": "code",
   "execution_count": 105,
   "id": "7783e86c",
   "metadata": {},
   "outputs": [
    {
     "data": {
      "text/plain": [
       "[1, 100, 3]"
      ]
     },
     "execution_count": 105,
     "metadata": {},
     "output_type": "execute_result"
    }
   ],
   "source": [
    "x"
   ]
  },
  {
   "cell_type": "markdown",
   "id": "8c4023fa",
   "metadata": {},
   "source": [
    "***"
   ]
  },
  {
   "cell_type": "code",
   "execution_count": 106,
   "id": "2a4d9605",
   "metadata": {},
   "outputs": [
    {
     "data": {
      "text/plain": [
       "[1, 2, 3]"
      ]
     },
     "execution_count": 106,
     "metadata": {},
     "output_type": "execute_result"
    }
   ],
   "source": [
    "x = [1,2,3]\n",
    "x"
   ]
  },
  {
   "cell_type": "code",
   "execution_count": 107,
   "id": "996c86d9",
   "metadata": {},
   "outputs": [],
   "source": [
    "z = list(x)"
   ]
  },
  {
   "cell_type": "code",
   "execution_count": 108,
   "id": "c09400ba",
   "metadata": {},
   "outputs": [
    {
     "data": {
      "text/plain": [
       "[1, 2, 3]"
      ]
     },
     "execution_count": 108,
     "metadata": {},
     "output_type": "execute_result"
    }
   ],
   "source": [
    "z"
   ]
  },
  {
   "cell_type": "code",
   "execution_count": 109,
   "id": "11ac8ea0",
   "metadata": {},
   "outputs": [],
   "source": [
    "z[1] = 100"
   ]
  },
  {
   "cell_type": "code",
   "execution_count": 110,
   "id": "5a874fd2",
   "metadata": {},
   "outputs": [
    {
     "data": {
      "text/plain": [
       "[1, 100, 3]"
      ]
     },
     "execution_count": 110,
     "metadata": {},
     "output_type": "execute_result"
    }
   ],
   "source": [
    "z"
   ]
  },
  {
   "cell_type": "code",
   "execution_count": 111,
   "id": "93fedd1a",
   "metadata": {},
   "outputs": [
    {
     "data": {
      "text/plain": [
       "[1, 2, 3]"
      ]
     },
     "execution_count": 111,
     "metadata": {},
     "output_type": "execute_result"
    }
   ],
   "source": [
    "x"
   ]
  },
  {
   "cell_type": "markdown",
   "id": "686b60da",
   "metadata": {},
   "source": [
    "# Diccionarios\n",
    "`` nombre_diccionario = {'clave_1': valor_1,\n",
    "                         'clave_2': valor_2}``"
   ]
  },
  {
   "cell_type": "code",
   "execution_count": 113,
   "id": "f45d0625",
   "metadata": {},
   "outputs": [],
   "source": [
    "registro_dic = {'Carlos': 12,\n",
    "                'Jhon': 13,\n",
    "                'Lusia': 15,\n",
    "                'Verónica': 18}"
   ]
  },
  {
   "cell_type": "code",
   "execution_count": 114,
   "id": "e4214839",
   "metadata": {},
   "outputs": [
    {
     "data": {
      "text/plain": [
       "12"
      ]
     },
     "execution_count": 114,
     "metadata": {},
     "output_type": "execute_result"
    }
   ],
   "source": [
    "registro_dic['Carlos']"
   ]
  },
  {
   "cell_type": "code",
   "execution_count": 115,
   "id": "0f0fdea5",
   "metadata": {},
   "outputs": [],
   "source": [
    "nombre_alumnos = ['Carlos','Jhon','Luisa','Verónica']\n",
    "notas = [12,13,15,18]"
   ]
  },
  {
   "cell_type": "code",
   "execution_count": 117,
   "id": "66ccdd7b",
   "metadata": {},
   "outputs": [
    {
     "data": {
      "text/plain": [
       "2"
      ]
     },
     "execution_count": 117,
     "metadata": {},
     "output_type": "execute_result"
    }
   ],
   "source": [
    "indexacion_luisa = nombre_alumnos.index('Luisa')\n",
    "indexacion_luisa"
   ]
  },
  {
   "cell_type": "code",
   "execution_count": 118,
   "id": "071b67a3",
   "metadata": {},
   "outputs": [
    {
     "data": {
      "text/plain": [
       "15"
      ]
     },
     "execution_count": 118,
     "metadata": {},
     "output_type": "execute_result"
    }
   ],
   "source": [
    "notas[indexacion_luisa]"
   ]
  },
  {
   "cell_type": "markdown",
   "id": "0bcd9847",
   "metadata": {},
   "source": [
    "## convertir listas en diccionarios"
   ]
  },
  {
   "cell_type": "code",
   "execution_count": 119,
   "id": "e314fcf7",
   "metadata": {},
   "outputs": [],
   "source": [
    "mercados = ['La Victoria', 'Huamantanga','Santa Anita','San josé']"
   ]
  },
  {
   "cell_type": "code",
   "execution_count": 120,
   "id": "5f696615",
   "metadata": {},
   "outputs": [],
   "source": [
    "desperdicios = [40000, 30000, 15000,50000]"
   ]
  },
  {
   "cell_type": "code",
   "execution_count": 121,
   "id": "03fd9b0f",
   "metadata": {},
   "outputs": [],
   "source": [
    "dic_desperdicio = dict(zip(mercados, desperdicios))"
   ]
  },
  {
   "cell_type": "code",
   "execution_count": 122,
   "id": "a605681a",
   "metadata": {},
   "outputs": [
    {
     "data": {
      "text/plain": [
       "{'La Victoria': 40000,\n",
       " 'Huamantanga': 30000,\n",
       " 'Santa Anita': 15000,\n",
       " 'San josé': 50000}"
      ]
     },
     "execution_count": 122,
     "metadata": {},
     "output_type": "execute_result"
    }
   ],
   "source": [
    "dic_desperdicio"
   ]
  },
  {
   "cell_type": "code",
   "execution_count": 123,
   "id": "a0cc6fd5",
   "metadata": {},
   "outputs": [
    {
     "data": {
      "text/plain": [
       "{'Carlos': 12, 'Jhon': 13, 'Luisa': 15, 'Verónica': 18}"
      ]
     },
     "execution_count": 123,
     "metadata": {},
     "output_type": "execute_result"
    }
   ],
   "source": [
    "dic_notas = dict(zip(nombre_alumnos, notas))\n",
    "dic_notas"
   ]
  },
  {
   "cell_type": "code",
   "execution_count": null,
   "id": "456c0e69",
   "metadata": {},
   "outputs": [],
   "source": []
  }
 ],
 "metadata": {
  "kernelspec": {
   "display_name": "Python 3 (ipykernel)",
   "language": "python",
   "name": "python3"
  },
  "language_info": {
   "codemirror_mode": {
    "name": "ipython",
    "version": 3
   },
   "file_extension": ".py",
   "mimetype": "text/x-python",
   "name": "python",
   "nbconvert_exporter": "python",
   "pygments_lexer": "ipython3",
   "version": "3.9.7"
  },
  "toc": {
   "base_numbering": 1,
   "nav_menu": {},
   "number_sections": true,
   "sideBar": true,
   "skip_h1_title": false,
   "title_cell": "Table of Contents",
   "title_sidebar": "Contents",
   "toc_cell": false,
   "toc_position": {},
   "toc_section_display": true,
   "toc_window_display": false
  },
  "varInspector": {
   "cols": {
    "lenName": 16,
    "lenType": 16,
    "lenVar": 40
   },
   "kernels_config": {
    "python": {
     "delete_cmd_postfix": "",
     "delete_cmd_prefix": "del ",
     "library": "var_list.py",
     "varRefreshCmd": "print(var_dic_list())"
    },
    "r": {
     "delete_cmd_postfix": ") ",
     "delete_cmd_prefix": "rm(",
     "library": "var_list.r",
     "varRefreshCmd": "cat(var_dic_list()) "
    }
   },
   "types_to_exclude": [
    "module",
    "function",
    "builtin_function_or_method",
    "instance",
    "_Feature"
   ],
   "window_display": false
  }
 },
 "nbformat": 4,
 "nbformat_minor": 5
}
